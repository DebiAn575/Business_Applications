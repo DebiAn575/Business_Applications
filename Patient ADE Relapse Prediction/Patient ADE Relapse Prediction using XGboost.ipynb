{
 "cells": [
  {
   "cell_type": "markdown",
   "id": "32f84904",
   "metadata": {},
   "source": [
    "### Import All Libraries"
   ]
  },
  {
   "cell_type": "code",
   "execution_count": 1,
   "id": "1f80fbad",
   "metadata": {},
   "outputs": [],
   "source": [
    "import numpy as np\n",
    "import pandas as pd\n",
    "import matplotlib.pyplot as plt\n",
    "import sklearn as sk\n",
    "import seaborn as sns\n",
    "from sklearn.model_selection import train_test_split, RandomizedSearchCV, GridSearchCV\n",
    "from sklearn.model_selection import cross_val_score\n",
    "from sklearn.ensemble import RandomForestClassifier\n",
    "from sklearn.preprocessing import PolynomialFeatures,OneHotEncoder\n",
    "from sklearn.metrics import accuracy_score, roc_auc_score, confusion_matrix,classification_report\n",
    "from sklearn.utils import resample\n",
    "from sklearn.ensemble import VotingClassifier\n",
    "import scipy.stats as stats\n",
    "import xgboost as xgb\n",
    "from sklearn.model_selection import GridSearchCV\n",
    "from scipy.stats import randint, uniform\n",
    "\n",
    "from sklearn.model_selection import train_test_split\n",
    "import tensorflow as tf\n",
    "from tensorflow.keras.models import Sequential\n",
    "from tensorflow.keras.layers import Dense\n",
    "\n",
    "import warnings\n",
    "warnings.filterwarnings(\"ignore\")"
   ]
  },
  {
   "cell_type": "markdown",
   "id": "9abec90a",
   "metadata": {},
   "source": [
    "### Load original datasets - 6"
   ]
  },
  {
   "cell_type": "code",
   "execution_count": 2,
   "id": "f11c4dd8",
   "metadata": {},
   "outputs": [],
   "source": [
    "targetdf = pd.read_csv('C:/Users/u1427957/OneDrive - University of Utah/MyWorks_2022/Portfolio-Projects/Humana/data/new_data/target_train.csv')\n",
    "medclmsdf = pd.read_csv('C:/Users/u1427957/OneDrive - University of Utah/MyWorks_2022/Portfolio-Projects/Humana/data/medclms_train.csv')\n",
    "rxclmsdf = pd.read_csv('C:/Users/u1427957/OneDrive - University of Utah/MyWorks_2022/Portfolio-Projects/Humana/data/new_data/rxclms_train.csv')\n",
    "targetdf_holdout = pd.read_csv(\"C:/Users/u1427957/OneDrive - University of Utah/MyWorks_2022/Portfolio-Projects/Humana/data/target_holdout.csv\")\n",
    "rxclmsdf_holdout = pd.read_csv(\"C:/Users/u1427957/OneDrive - University of Utah/MyWorks_2022/Portfolio-Projects/Humana/data/new_data/rxclms_holdout.csv\")\n",
    "medclmsdf_holdout = pd.read_csv(\"C:/Users/u1427957/OneDrive - University of Utah/MyWorks_2022/Portfolio-Projects/Humana/data/medclms_holdout.csv\")"
   ]
  },
  {
   "cell_type": "markdown",
   "id": "e9e77de0",
   "metadata": {},
   "source": [
    "### Original data sets preprocessing"
   ]
  },
  {
   "cell_type": "markdown",
   "id": "1b640eb7",
   "metadata": {},
   "source": [
    "#### Check for percentage Null, blank and missing values in the original datasets"
   ]
  },
  {
   "cell_type": "code",
   "execution_count": 3,
   "id": "db481f7d",
   "metadata": {},
   "outputs": [],
   "source": [
    "def percentage_null_values(df):\n",
    "    total_rows = df.shape[0]\n",
    "    null_counts = df.isnull().sum()\n",
    "    percentage_null = (null_counts / total_rows) * 100\n",
    "    return percentage_null"
   ]
  },
  {
   "cell_type": "code",
   "execution_count": 4,
   "id": "f70f728b",
   "metadata": {},
   "outputs": [
    {
     "data": {
      "text/plain": [
       "therapy_id                 0.000000\n",
       "document_key               0.000000\n",
       "ndc_id                     0.000000\n",
       "service_date               0.000000\n",
       "process_date               0.000000\n",
       "pay_day_supply_cnt         0.000000\n",
       "rx_cost                    0.000000\n",
       "tot_drug_cost_accum_amt    0.000000\n",
       "reversal_ind               0.000000\n",
       "mail_order_ind             0.000000\n",
       "generic_ind                0.000000\n",
       "maint_ind                  0.000000\n",
       "gpi_drug_group_desc        5.909812\n",
       "gpi_drug_class_desc        5.909812\n",
       "hum_drug_class_desc        5.909812\n",
       "strength_meas              6.684717\n",
       "metric_strength            6.684717\n",
       "specialty_ind              0.000000\n",
       "clm_type                   0.000000\n",
       "dtype: float64"
      ]
     },
     "execution_count": 4,
     "metadata": {},
     "output_type": "execute_result"
    }
   ],
   "source": [
    "percentage_null_values(rxclmsdf)"
   ]
  },
  {
   "cell_type": "code",
   "execution_count": 5,
   "id": "4ef811a7",
   "metadata": {
    "scrolled": true
   },
   "outputs": [
    {
     "data": {
      "text/plain": [
       "therapy_id                  0.000000\n",
       "medclm_key                  0.000000\n",
       "clm_unique_key              0.000000\n",
       "primary_diag_cd             0.000000\n",
       "visit_date                  0.000000\n",
       "diag_cd2                   24.091694\n",
       "diag_cd3                   41.292345\n",
       "diag_cd4                   52.460588\n",
       "diag_cd5                   61.787757\n",
       "diag_cd6                   67.264050\n",
       "diag_cd7                   72.357951\n",
       "diag_cd8                   75.836420\n",
       "diag_cd9                   78.718837\n",
       "process_date                0.000000\n",
       "reversal_ind               98.713046\n",
       "pot                         0.000000\n",
       "util_cat                   43.359059\n",
       "hedis_pot                   0.000000\n",
       "clm_type                    0.000000\n",
       "ade_diagnosis               0.000000\n",
       "seizure_diagnosis           0.000000\n",
       "pain_diagnosis              0.000000\n",
       "fatigue_diagnosis           0.000000\n",
       "nausea_diagnosis            0.000000\n",
       "hyperglycemia_diagnosis     0.000000\n",
       "constipation_diagnosis      0.000000\n",
       "diarrhea_diagnosis          0.000000\n",
       "dtype: float64"
      ]
     },
     "execution_count": 5,
     "metadata": {},
     "output_type": "execute_result"
    }
   ],
   "source": [
    "percentage_null_values(medclmsdf)"
   ]
  },
  {
   "cell_type": "code",
   "execution_count": 6,
   "id": "d2244625",
   "metadata": {},
   "outputs": [],
   "source": [
    "medclmsdf = medclmsdf.drop(columns = ['diag_cd4','diag_cd5','diag_cd6','diag_cd7','diag_cd8','diag_cd9', 'reversal_ind'])"
   ]
  },
  {
   "cell_type": "code",
   "execution_count": 7,
   "id": "2b8e26d3",
   "metadata": {},
   "outputs": [
    {
     "data": {
      "text/plain": [
       "(100159, 20)"
      ]
     },
     "execution_count": 7,
     "metadata": {},
     "output_type": "execute_result"
    }
   ],
   "source": [
    "medclmsdf.shape"
   ]
  },
  {
   "cell_type": "code",
   "execution_count": 8,
   "id": "8d450e41",
   "metadata": {
    "scrolled": true
   },
   "outputs": [
    {
     "data": {
      "text/plain": [
       "therapy_id                  0.000000\n",
       "medclm_key                  0.000000\n",
       "clm_unique_key              0.000000\n",
       "primary_diag_cd             0.000000\n",
       "visit_date                  0.000000\n",
       "diag_cd2                   23.084539\n",
       "diag_cd3                   40.517390\n",
       "diag_cd4                   53.228306\n",
       "diag_cd5                   64.725379\n",
       "diag_cd6                   70.170455\n",
       "diag_cd7                   76.226756\n",
       "diag_cd8                   78.658747\n",
       "diag_cd9                   81.516873\n",
       "process_date                0.000000\n",
       "reversal_ind               99.104683\n",
       "pot                         0.000000\n",
       "util_cat                   43.211949\n",
       "hedis_pot                   0.000000\n",
       "clm_type                    0.000000\n",
       "ade_diagnosis               0.000000\n",
       "seizure_diagnosis           0.000000\n",
       "pain_diagnosis              0.000000\n",
       "fatigue_diagnosis           0.000000\n",
       "nausea_diagnosis            0.000000\n",
       "hyperglycemia_diagnosis     0.000000\n",
       "constipation_diagnosis      0.000000\n",
       "diarrhea_diagnosis          0.000000\n",
       "dtype: float64"
      ]
     },
     "execution_count": 8,
     "metadata": {},
     "output_type": "execute_result"
    }
   ],
   "source": [
    "percentage_null_values(medclmsdf_holdout)"
   ]
  },
  {
   "cell_type": "code",
   "execution_count": 9,
   "id": "e4ff1db7",
   "metadata": {},
   "outputs": [],
   "source": [
    "medclmsdf_holdout = medclmsdf_holdout.drop(columns = ['diag_cd4','diag_cd5','diag_cd6','diag_cd7','diag_cd8','diag_cd9', 'reversal_ind'])"
   ]
  },
  {
   "cell_type": "code",
   "execution_count": 10,
   "id": "e00df525",
   "metadata": {},
   "outputs": [
    {
     "data": {
      "text/plain": [
       "(23232, 20)"
      ]
     },
     "execution_count": 10,
     "metadata": {},
     "output_type": "execute_result"
    }
   ],
   "source": [
    "medclmsdf_holdout.shape"
   ]
  },
  {
   "cell_type": "markdown",
   "id": "f48556dc",
   "metadata": {},
   "source": [
    "#### Drop duplicate therapy_ids from rxclms_train and medclms_train and replace them with central tendency"
   ]
  },
  {
   "cell_type": "code",
   "execution_count": 11,
   "id": "f9e8fdad",
   "metadata": {},
   "outputs": [],
   "source": [
    "#Function\n",
    "\n",
    "def merge_records(df, group_by_column):\n",
    "    grouped = df.groupby(group_by_column)\n",
    "    merged_records = []\n",
    "\n",
    "    for group_name, group_data in grouped:\n",
    "        numeric_mean = group_data.select_dtypes(include=['int', 'float']).median()\n",
    "        object_mode = group_data.select_dtypes(include=['object']).mode().iloc[0]\n",
    "\n",
    "        merged_record = {group_by_column: group_name}\n",
    "        merged_record.update(numeric_mean)\n",
    "        merged_record.update(object_mode)\n",
    "\n",
    "        merged_records.append(merged_record)\n",
    "\n",
    "    merged_df = pd.DataFrame(merged_records)\n",
    "\n",
    "    return merged_df"
   ]
  },
  {
   "cell_type": "code",
   "execution_count": 12,
   "id": "ef593396",
   "metadata": {},
   "outputs": [],
   "source": [
    "#Apply above function on train set\n",
    "rxclmsdf = merge_records(rxclmsdf, 'therapy_id')\n",
    "medclmsdf = merge_records(medclmsdf, 'therapy_id')"
   ]
  },
  {
   "cell_type": "code",
   "execution_count": 13,
   "id": "494f767c",
   "metadata": {},
   "outputs": [
    {
     "name": "stdout",
     "output_type": "stream",
     "text": [
      "(1160, 19)\n",
      "(536, 20)\n"
     ]
    }
   ],
   "source": [
    "print(rxclmsdf.shape)\n",
    "print(medclmsdf.shape)"
   ]
  },
  {
   "cell_type": "code",
   "execution_count": 14,
   "id": "8fbbcd74",
   "metadata": {},
   "outputs": [],
   "source": [
    "#Apply above function on holdout set\n",
    "\n",
    "rxclmsdf_holdout = merge_records(rxclmsdf_holdout, 'therapy_id')\n",
    "medclmsdf_holdout = merge_records(medclmsdf_holdout, 'therapy_id')"
   ]
  },
  {
   "cell_type": "code",
   "execution_count": 15,
   "id": "6ef5eb0d",
   "metadata": {},
   "outputs": [
    {
     "name": "stdout",
     "output_type": "stream",
     "text": [
      "(379, 19)\n",
      "(185, 20)\n"
     ]
    }
   ],
   "source": [
    "print(rxclmsdf_holdout.shape)\n",
    "print(medclmsdf_holdout.shape)"
   ]
  },
  {
   "cell_type": "markdown",
   "id": "3ae15fef",
   "metadata": {},
   "source": [
    "#### split the therapy_id column in rxclmsdf and medclmsdf into id,drug_name and therapy_no"
   ]
  },
  {
   "cell_type": "code",
   "execution_count": 16,
   "id": "38555da7",
   "metadata": {},
   "outputs": [],
   "source": [
    "#Function\n",
    "\n",
    "def split_therapy_id_column(df):\n",
    "    # Create new columns by splitting 'therapy_id' column\n",
    "    df[['id', 'drug_name', 'therapy_no']] = df['therapy_id'].str.split('-', expand=True)\n",
    "    \n",
    "    # Convert 'id' column to integer\n",
    "    df['id'] = df['id'].astype('int64')\n",
    "    \n",
    "    # Drop the original 'therapy_id' column\n",
    "    df.drop(columns=['therapy_id'], inplace=True)\n",
    "    \n",
    "    return df"
   ]
  },
  {
   "cell_type": "code",
   "execution_count": 17,
   "id": "ff82b9c8",
   "metadata": {},
   "outputs": [],
   "source": [
    "# Call the function on train data sets\n",
    "\n",
    "medclmsdf = split_therapy_id_column(medclmsdf)\n",
    "\n",
    "rxclmsdf = split_therapy_id_column(rxclmsdf)"
   ]
  },
  {
   "cell_type": "code",
   "execution_count": 18,
   "id": "655470c7",
   "metadata": {
    "scrolled": true
   },
   "outputs": [
    {
     "name": "stdout",
     "output_type": "stream",
     "text": [
      "(1160, 21)\n",
      "(536, 22)\n"
     ]
    }
   ],
   "source": [
    "print(rxclmsdf.shape)\n",
    "print(medclmsdf.shape)"
   ]
  },
  {
   "cell_type": "code",
   "execution_count": 19,
   "id": "5b64832c",
   "metadata": {},
   "outputs": [],
   "source": [
    "# Call the function on holdout set data sets \n",
    "rxclmsdf_holdout = split_therapy_id_column(rxclmsdf_holdout)\n",
    "\n",
    "medclmsdf_holdout = split_therapy_id_column(medclmsdf_holdout)"
   ]
  },
  {
   "cell_type": "code",
   "execution_count": 20,
   "id": "feff9da2",
   "metadata": {},
   "outputs": [
    {
     "name": "stdout",
     "output_type": "stream",
     "text": [
      "(379, 21)\n",
      "(185, 22)\n"
     ]
    }
   ],
   "source": [
    "print(rxclmsdf_holdout.shape)\n",
    "print(medclmsdf_holdout.shape)"
   ]
  },
  {
   "cell_type": "code",
   "execution_count": 21,
   "id": "917de67d",
   "metadata": {},
   "outputs": [],
   "source": [
    "#Drop the therapy_id column from target_train and target_holdout"
   ]
  },
  {
   "cell_type": "code",
   "execution_count": 22,
   "id": "42708e82",
   "metadata": {},
   "outputs": [],
   "source": [
    "targetdf = targetdf.drop(columns = 'therapy_id')"
   ]
  },
  {
   "cell_type": "code",
   "execution_count": 23,
   "id": "e09a44b7",
   "metadata": {},
   "outputs": [],
   "source": [
    "targetdf_holdout = targetdf_holdout.drop(columns = 'therapy_id')"
   ]
  },
  {
   "cell_type": "code",
   "execution_count": 24,
   "id": "4d1ff90b",
   "metadata": {
    "scrolled": true
   },
   "outputs": [
    {
     "name": "stdout",
     "output_type": "stream",
     "text": [
      "(1232, 8)\n",
      "(420, 7)\n"
     ]
    }
   ],
   "source": [
    "print(targetdf.shape)\n",
    "print(targetdf_holdout.shape)"
   ]
  },
  {
   "cell_type": "markdown",
   "id": "17c028ab",
   "metadata": {},
   "source": [
    "#### Merging all 3 datasets"
   ]
  },
  {
   "cell_type": "code",
   "execution_count": 25,
   "id": "89c471d6",
   "metadata": {},
   "outputs": [],
   "source": [
    "# Merging train data\n",
    "\n",
    "merged_df1 = pd.merge(targetdf,rxclmsdf, on='id', how='left', suffixes=('_target','_rxclms'))\n",
    "\n",
    "merged_df2 = pd.merge(merged_df1,medclmsdf, on='id', how='left', suffixes=('_rxclms','_medclms'))"
   ]
  },
  {
   "cell_type": "code",
   "execution_count": 26,
   "id": "cddd980f",
   "metadata": {
    "scrolled": true
   },
   "outputs": [
    {
     "name": "stdout",
     "output_type": "stream",
     "text": [
      "(1232, 49)\n",
      "id                           0\n",
      "Total_therapy_days           0\n",
      "tgt_ade_dc_ind               0\n",
      "race_cd                     68\n",
      "est_age                     83\n",
      "sex_cd                      83\n",
      "cms_disabled_ind            83\n",
      "cms_low_income_ind          83\n",
      "ndc_id                      72\n",
      "pay_day_supply_cnt          72\n",
      "rx_cost                     72\n",
      "tot_drug_cost_accum_amt     72\n",
      "metric_strength             77\n",
      "document_key                72\n",
      "service_date                72\n",
      "process_date_rxclms         72\n",
      "reversal_ind                72\n",
      "mail_order_ind              72\n",
      "generic_ind                 72\n",
      "maint_ind                   72\n",
      "gpi_drug_group_desc         77\n",
      "gpi_drug_class_desc         77\n",
      "hum_drug_class_desc         77\n",
      "strength_meas               77\n",
      "specialty_ind               72\n",
      "clm_type_rxclms             72\n",
      "drug_name_rxclms            72\n",
      "therapy_no_rxclms           72\n",
      "medclm_key                 696\n",
      "clm_unique_key             696\n",
      "ade_diagnosis              696\n",
      "seizure_diagnosis          696\n",
      "pain_diagnosis             696\n",
      "fatigue_diagnosis          696\n",
      "nausea_diagnosis           696\n",
      "hyperglycemia_diagnosis    696\n",
      "constipation_diagnosis     696\n",
      "diarrhea_diagnosis         696\n",
      "primary_diag_cd            696\n",
      "visit_date                 696\n",
      "diag_cd2                   697\n",
      "diag_cd3                   702\n",
      "process_date_medclms       696\n",
      "pot                        696\n",
      "util_cat                   696\n",
      "hedis_pot                  696\n",
      "clm_type_medclms           696\n",
      "drug_name_medclms          696\n",
      "therapy_no_medclms         696\n",
      "dtype: int64\n"
     ]
    }
   ],
   "source": [
    "print(merged_df2.shape)\n",
    "print(merged_df2.isna().sum())"
   ]
  },
  {
   "cell_type": "code",
   "execution_count": 27,
   "id": "4184b081",
   "metadata": {},
   "outputs": [],
   "source": [
    "# Merging holdout data\n",
    "\n",
    "merged_df1_holdout = pd.merge(targetdf_holdout,rxclmsdf_holdout, on='id', how='left', suffixes=('_target','_rxclms'))\n",
    "\n",
    "merged_df2_holdout = pd.merge(merged_df1_holdout,medclmsdf_holdout, on='id', how='left', suffixes=('_rxclms','_medclms'))"
   ]
  },
  {
   "cell_type": "code",
   "execution_count": 28,
   "id": "eeadc400",
   "metadata": {
    "scrolled": true
   },
   "outputs": [
    {
     "name": "stdout",
     "output_type": "stream",
     "text": [
      "(420, 48)\n",
      "id                           0\n",
      "therapy_start_date           0\n",
      "race_cd                     18\n",
      "est_age                     28\n",
      "sex_cd                      28\n",
      "cms_disabled_ind            28\n",
      "cms_low_income_ind          28\n",
      "ndc_id                      41\n",
      "pay_day_supply_cnt          41\n",
      "rx_cost                     41\n",
      "tot_drug_cost_accum_amt     41\n",
      "metric_strength             42\n",
      "document_key                41\n",
      "service_date                41\n",
      "process_date_rxclms         41\n",
      "reversal_ind                41\n",
      "mail_order_ind              41\n",
      "generic_ind                 41\n",
      "maint_ind                   41\n",
      "gpi_drug_group_desc         42\n",
      "gpi_drug_class_desc         42\n",
      "hum_drug_class_desc         42\n",
      "strength_meas               42\n",
      "specialty_ind               41\n",
      "clm_type_rxclms             41\n",
      "drug_name_rxclms            41\n",
      "therapy_no_rxclms           41\n",
      "medclm_key                 235\n",
      "clm_unique_key             235\n",
      "ade_diagnosis              235\n",
      "seizure_diagnosis          235\n",
      "pain_diagnosis             235\n",
      "fatigue_diagnosis          235\n",
      "nausea_diagnosis           235\n",
      "hyperglycemia_diagnosis    235\n",
      "constipation_diagnosis     235\n",
      "diarrhea_diagnosis         235\n",
      "primary_diag_cd            235\n",
      "visit_date                 235\n",
      "diag_cd2                   236\n",
      "diag_cd3                   239\n",
      "process_date_medclms       235\n",
      "pot                        235\n",
      "util_cat                   236\n",
      "hedis_pot                  235\n",
      "clm_type_medclms           235\n",
      "drug_name_medclms          235\n",
      "therapy_no_medclms         235\n",
      "dtype: int64\n"
     ]
    }
   ],
   "source": [
    "print(merged_df2_holdout.shape)\n",
    "print(merged_df2_holdout.isna().sum())"
   ]
  },
  {
   "cell_type": "markdown",
   "id": "cbb0344e",
   "metadata": {},
   "source": [
    "#### Drop the columns which are intuitively not predictors"
   ]
  },
  {
   "cell_type": "code",
   "execution_count": 29,
   "id": "43bbb963",
   "metadata": {},
   "outputs": [],
   "source": [
    "# Drop columns in merged train set\n",
    "\n",
    "drop_columns = ['id','Total_therapy_days','metric_strength','document_key','service_date','process_date_rxclms','process_date_medclms','therapy_no_rxclms','medclm_key','clm_unique_key','drug_name_rxclms','visit_date','drug_name_medclms','therapy_no_medclms']\n",
    "merged_df = merged_df2.drop(columns = drop_columns)"
   ]
  },
  {
   "cell_type": "code",
   "execution_count": 30,
   "id": "da58417d",
   "metadata": {},
   "outputs": [],
   "source": [
    "# Drop columns in merged holdout set\n",
    "\n",
    "drop_columns = ['id','therapy_start_date','metric_strength','document_key','service_date','process_date_rxclms','process_date_medclms','therapy_no_rxclms','medclm_key','clm_unique_key','drug_name_rxclms','visit_date','drug_name_medclms','therapy_no_medclms']\n",
    "\n",
    "merged_df_holdout = merged_df2_holdout.drop(columns = drop_columns)"
   ]
  },
  {
   "cell_type": "code",
   "execution_count": 31,
   "id": "cb5bcf2d",
   "metadata": {
    "scrolled": true
   },
   "outputs": [
    {
     "name": "stdout",
     "output_type": "stream",
     "text": [
      "target :  (1232, 35)\n",
      "holdout :  (420, 34)\n"
     ]
    }
   ],
   "source": [
    "print('target : ', merged_df.shape)\n",
    "print('holdout : ', merged_df_holdout.shape)"
   ]
  },
  {
   "cell_type": "code",
   "execution_count": 32,
   "id": "996342fa",
   "metadata": {},
   "outputs": [
    {
     "name": "stdout",
     "output_type": "stream",
     "text": [
      "<class 'pandas.core.frame.DataFrame'>\n",
      "Int64Index: 1232 entries, 0 to 1231\n",
      "Data columns (total 35 columns):\n",
      " #   Column                   Non-Null Count  Dtype  \n",
      "---  ------                   --------------  -----  \n",
      " 0   tgt_ade_dc_ind           1232 non-null   int64  \n",
      " 1   race_cd                  1164 non-null   float64\n",
      " 2   est_age                  1149 non-null   float64\n",
      " 3   sex_cd                   1149 non-null   object \n",
      " 4   cms_disabled_ind         1149 non-null   float64\n",
      " 5   cms_low_income_ind       1149 non-null   float64\n",
      " 6   ndc_id                   1160 non-null   float64\n",
      " 7   pay_day_supply_cnt       1160 non-null   float64\n",
      " 8   rx_cost                  1160 non-null   float64\n",
      " 9   tot_drug_cost_accum_amt  1160 non-null   float64\n",
      " 10  reversal_ind             1160 non-null   object \n",
      " 11  mail_order_ind           1160 non-null   object \n",
      " 12  generic_ind              1160 non-null   object \n",
      " 13  maint_ind                1160 non-null   object \n",
      " 14  gpi_drug_group_desc      1155 non-null   object \n",
      " 15  gpi_drug_class_desc      1155 non-null   object \n",
      " 16  hum_drug_class_desc      1155 non-null   object \n",
      " 17  strength_meas            1155 non-null   object \n",
      " 18  specialty_ind            1160 non-null   object \n",
      " 19  clm_type_rxclms          1160 non-null   object \n",
      " 20  ade_diagnosis            536 non-null    float64\n",
      " 21  seizure_diagnosis        536 non-null    float64\n",
      " 22  pain_diagnosis           536 non-null    float64\n",
      " 23  fatigue_diagnosis        536 non-null    float64\n",
      " 24  nausea_diagnosis         536 non-null    float64\n",
      " 25  hyperglycemia_diagnosis  536 non-null    float64\n",
      " 26  constipation_diagnosis   536 non-null    float64\n",
      " 27  diarrhea_diagnosis       536 non-null    float64\n",
      " 28  primary_diag_cd          536 non-null    object \n",
      " 29  diag_cd2                 535 non-null    object \n",
      " 30  diag_cd3                 530 non-null    object \n",
      " 31  pot                      536 non-null    object \n",
      " 32  util_cat                 536 non-null    object \n",
      " 33  hedis_pot                536 non-null    object \n",
      " 34  clm_type_medclms         536 non-null    object \n",
      "dtypes: float64(16), int64(1), object(18)\n",
      "memory usage: 346.5+ KB\n",
      "None\n",
      "\n",
      "\n",
      "<class 'pandas.core.frame.DataFrame'>\n",
      "Int64Index: 420 entries, 0 to 419\n",
      "Data columns (total 34 columns):\n",
      " #   Column                   Non-Null Count  Dtype  \n",
      "---  ------                   --------------  -----  \n",
      " 0   race_cd                  402 non-null    float64\n",
      " 1   est_age                  392 non-null    float64\n",
      " 2   sex_cd                   392 non-null    object \n",
      " 3   cms_disabled_ind         392 non-null    float64\n",
      " 4   cms_low_income_ind       392 non-null    float64\n",
      " 5   ndc_id                   379 non-null    float64\n",
      " 6   pay_day_supply_cnt       379 non-null    float64\n",
      " 7   rx_cost                  379 non-null    float64\n",
      " 8   tot_drug_cost_accum_amt  379 non-null    float64\n",
      " 9   reversal_ind             379 non-null    object \n",
      " 10  mail_order_ind           379 non-null    object \n",
      " 11  generic_ind              379 non-null    object \n",
      " 12  maint_ind                379 non-null    object \n",
      " 13  gpi_drug_group_desc      378 non-null    object \n",
      " 14  gpi_drug_class_desc      378 non-null    object \n",
      " 15  hum_drug_class_desc      378 non-null    object \n",
      " 16  strength_meas            378 non-null    object \n",
      " 17  specialty_ind            379 non-null    object \n",
      " 18  clm_type_rxclms          379 non-null    object \n",
      " 19  ade_diagnosis            185 non-null    float64\n",
      " 20  seizure_diagnosis        185 non-null    float64\n",
      " 21  pain_diagnosis           185 non-null    float64\n",
      " 22  fatigue_diagnosis        185 non-null    float64\n",
      " 23  nausea_diagnosis         185 non-null    float64\n",
      " 24  hyperglycemia_diagnosis  185 non-null    float64\n",
      " 25  constipation_diagnosis   185 non-null    float64\n",
      " 26  diarrhea_diagnosis       185 non-null    float64\n",
      " 27  primary_diag_cd          185 non-null    object \n",
      " 28  diag_cd2                 184 non-null    object \n",
      " 29  diag_cd3                 181 non-null    object \n",
      " 30  pot                      185 non-null    object \n",
      " 31  util_cat                 184 non-null    object \n",
      " 32  hedis_pot                185 non-null    object \n",
      " 33  clm_type_medclms         185 non-null    object \n",
      "dtypes: float64(16), object(18)\n",
      "memory usage: 114.8+ KB\n",
      "None\n"
     ]
    }
   ],
   "source": [
    "print(merged_df.info())\n",
    "print()\n",
    "print()\n",
    "print(merged_df_holdout.info())"
   ]
  },
  {
   "cell_type": "markdown",
   "id": "e5459470",
   "metadata": {},
   "source": [
    "#### Replacing missing values (Null, Blank Space, NaN) with new category Unknown and Median"
   ]
  },
  {
   "cell_type": "code",
   "execution_count": 33,
   "id": "4dd3eabf",
   "metadata": {},
   "outputs": [],
   "source": [
    "# Replacing missing values - replacing all null, NaN and blank spaces with unknown category for object columns\n",
    "\n",
    "#Create a function for Unknown category \n",
    "\n",
    "def convert_nulls_to_unknown(df):\n",
    "    # Get a list of object columns\n",
    "    object_columns = df.select_dtypes(include=['object']).columns\n",
    "    \n",
    "    # Replace nulls, blank spaces, and NaNs with 'unknown'\n",
    "    for col in object_columns:\n",
    "        df[col].fillna('unknown', inplace=True)\n",
    "        df[col] = df[col].str.strip().replace('', 'unknown')\n",
    "    \n",
    "    return df"
   ]
  },
  {
   "cell_type": "code",
   "execution_count": 34,
   "id": "0ba9eff2",
   "metadata": {},
   "outputs": [],
   "source": [
    "# Apply the function on train set\n",
    "merged_df = convert_nulls_to_unknown(merged_df)\n",
    "\n",
    "# Apply the function on holdout set\n",
    "merged_df_holdout = convert_nulls_to_unknown(merged_df_holdout)"
   ]
  },
  {
   "cell_type": "code",
   "execution_count": 35,
   "id": "d8d14b05",
   "metadata": {},
   "outputs": [],
   "source": [
    "# Replacing missing values - replacing all null, NaN and blank spaces with median value for numeric columns\n",
    "\n",
    "def replace_nulls_with_median(df):\n",
    "    # Get a list of numeric columns\n",
    "    numeric_columns = df.select_dtypes(include=['number']).columns\n",
    "    \n",
    "    # Replace nulls, blank spaces, and NaNs with median\n",
    "    for col in numeric_columns:\n",
    "        median_value = df[col].median()\n",
    "        df[col].fillna(median_value, inplace=True)\n",
    "    \n",
    "    return df"
   ]
  },
  {
   "cell_type": "code",
   "execution_count": 36,
   "id": "51af41a4",
   "metadata": {},
   "outputs": [],
   "source": [
    "# Apply the function on train set\n",
    "merged_df = replace_nulls_with_median(merged_df)\n",
    "\n",
    "# Apply the function on holdout set\n",
    "merged_df_holdout = replace_nulls_with_median(merged_df_holdout)"
   ]
  },
  {
   "cell_type": "code",
   "execution_count": 37,
   "id": "c74aaea1",
   "metadata": {
    "scrolled": true
   },
   "outputs": [
    {
     "name": "stdout",
     "output_type": "stream",
     "text": [
      "<class 'pandas.core.frame.DataFrame'>\n",
      "Int64Index: 1232 entries, 0 to 1231\n",
      "Data columns (total 35 columns):\n",
      " #   Column                   Non-Null Count  Dtype  \n",
      "---  ------                   --------------  -----  \n",
      " 0   tgt_ade_dc_ind           1232 non-null   int64  \n",
      " 1   race_cd                  1232 non-null   float64\n",
      " 2   est_age                  1232 non-null   float64\n",
      " 3   sex_cd                   1232 non-null   object \n",
      " 4   cms_disabled_ind         1232 non-null   float64\n",
      " 5   cms_low_income_ind       1232 non-null   float64\n",
      " 6   ndc_id                   1232 non-null   float64\n",
      " 7   pay_day_supply_cnt       1232 non-null   float64\n",
      " 8   rx_cost                  1232 non-null   float64\n",
      " 9   tot_drug_cost_accum_amt  1232 non-null   float64\n",
      " 10  reversal_ind             1232 non-null   object \n",
      " 11  mail_order_ind           1232 non-null   object \n",
      " 12  generic_ind              1232 non-null   object \n",
      " 13  maint_ind                1232 non-null   object \n",
      " 14  gpi_drug_group_desc      1232 non-null   object \n",
      " 15  gpi_drug_class_desc      1232 non-null   object \n",
      " 16  hum_drug_class_desc      1232 non-null   object \n",
      " 17  strength_meas            1232 non-null   object \n",
      " 18  specialty_ind            1232 non-null   object \n",
      " 19  clm_type_rxclms          1232 non-null   object \n",
      " 20  ade_diagnosis            1232 non-null   float64\n",
      " 21  seizure_diagnosis        1232 non-null   float64\n",
      " 22  pain_diagnosis           1232 non-null   float64\n",
      " 23  fatigue_diagnosis        1232 non-null   float64\n",
      " 24  nausea_diagnosis         1232 non-null   float64\n",
      " 25  hyperglycemia_diagnosis  1232 non-null   float64\n",
      " 26  constipation_diagnosis   1232 non-null   float64\n",
      " 27  diarrhea_diagnosis       1232 non-null   float64\n",
      " 28  primary_diag_cd          1232 non-null   object \n",
      " 29  diag_cd2                 1232 non-null   object \n",
      " 30  diag_cd3                 1232 non-null   object \n",
      " 31  pot                      1232 non-null   object \n",
      " 32  util_cat                 1232 non-null   object \n",
      " 33  hedis_pot                1232 non-null   object \n",
      " 34  clm_type_medclms         1232 non-null   object \n",
      "dtypes: float64(16), int64(1), object(18)\n",
      "memory usage: 346.5+ KB\n",
      "None\n",
      "\n",
      "\n",
      "<class 'pandas.core.frame.DataFrame'>\n",
      "Int64Index: 420 entries, 0 to 419\n",
      "Data columns (total 34 columns):\n",
      " #   Column                   Non-Null Count  Dtype  \n",
      "---  ------                   --------------  -----  \n",
      " 0   race_cd                  420 non-null    float64\n",
      " 1   est_age                  420 non-null    float64\n",
      " 2   sex_cd                   420 non-null    object \n",
      " 3   cms_disabled_ind         420 non-null    float64\n",
      " 4   cms_low_income_ind       420 non-null    float64\n",
      " 5   ndc_id                   420 non-null    float64\n",
      " 6   pay_day_supply_cnt       420 non-null    float64\n",
      " 7   rx_cost                  420 non-null    float64\n",
      " 8   tot_drug_cost_accum_amt  420 non-null    float64\n",
      " 9   reversal_ind             420 non-null    object \n",
      " 10  mail_order_ind           420 non-null    object \n",
      " 11  generic_ind              420 non-null    object \n",
      " 12  maint_ind                420 non-null    object \n",
      " 13  gpi_drug_group_desc      420 non-null    object \n",
      " 14  gpi_drug_class_desc      420 non-null    object \n",
      " 15  hum_drug_class_desc      420 non-null    object \n",
      " 16  strength_meas            420 non-null    object \n",
      " 17  specialty_ind            420 non-null    object \n",
      " 18  clm_type_rxclms          420 non-null    object \n",
      " 19  ade_diagnosis            420 non-null    float64\n",
      " 20  seizure_diagnosis        420 non-null    float64\n",
      " 21  pain_diagnosis           420 non-null    float64\n",
      " 22  fatigue_diagnosis        420 non-null    float64\n",
      " 23  nausea_diagnosis         420 non-null    float64\n",
      " 24  hyperglycemia_diagnosis  420 non-null    float64\n",
      " 25  constipation_diagnosis   420 non-null    float64\n",
      " 26  diarrhea_diagnosis       420 non-null    float64\n",
      " 27  primary_diag_cd          420 non-null    object \n",
      " 28  diag_cd2                 420 non-null    object \n",
      " 29  diag_cd3                 420 non-null    object \n",
      " 30  pot                      420 non-null    object \n",
      " 31  util_cat                 420 non-null    object \n",
      " 32  hedis_pot                420 non-null    object \n",
      " 33  clm_type_medclms         420 non-null    object \n",
      "dtypes: float64(16), object(18)\n",
      "memory usage: 114.8+ KB\n",
      "None\n"
     ]
    }
   ],
   "source": [
    "print(merged_df.info())\n",
    "print()\n",
    "print()\n",
    "print(merged_df_holdout.info())"
   ]
  },
  {
   "cell_type": "code",
   "execution_count": null,
   "id": "4a75794f",
   "metadata": {},
   "outputs": [],
   "source": [
    "\n"
   ]
  },
  {
   "cell_type": "markdown",
   "id": "fcb537ae",
   "metadata": {},
   "source": [
    "#### Encoding train and holdout datasets"
   ]
  },
  {
   "cell_type": "code",
   "execution_count": null,
   "id": "66dce0e4",
   "metadata": {},
   "outputs": [],
   "source": [
    "# Encode train datasets using label encoder"
   ]
  },
  {
   "cell_type": "code",
   "execution_count": 38,
   "id": "702665dc",
   "metadata": {},
   "outputs": [],
   "source": [
    "from sklearn.preprocessing import LabelEncoder"
   ]
  },
  {
   "cell_type": "code",
   "execution_count": 39,
   "id": "b82c9e77",
   "metadata": {},
   "outputs": [],
   "source": [
    "# Create a function for label encoding\n",
    "def convert_object_to_numeric(df):\n",
    "    # Select columns with object data type\n",
    "    object_columns = df.select_dtypes(include=['object']).columns\n",
    "\n",
    "    # Initialize LabelEncoder\n",
    "    le = LabelEncoder()\n",
    "\n",
    "    for column in object_columns:\n",
    "        # Fit and transform the LabelEncoder on each column\n",
    "        df[column] = le.fit_transform(df[column])\n",
    "    \n",
    "    return df"
   ]
  },
  {
   "cell_type": "code",
   "execution_count": 40,
   "id": "8e4ed910",
   "metadata": {},
   "outputs": [],
   "source": [
    "# Call the label encoder function on train and holdout set\n",
    "\n",
    "merged_df = convert_object_to_numeric(merged_df)\n",
    "\n",
    "merged_df_holdout = convert_object_to_numeric(merged_df_holdout)"
   ]
  },
  {
   "cell_type": "code",
   "execution_count": 42,
   "id": "dfba0f58",
   "metadata": {
    "scrolled": false
   },
   "outputs": [
    {
     "name": "stdout",
     "output_type": "stream",
     "text": [
      "<class 'pandas.core.frame.DataFrame'>\n",
      "Int64Index: 1232 entries, 0 to 1231\n",
      "Data columns (total 35 columns):\n",
      " #   Column                   Non-Null Count  Dtype  \n",
      "---  ------                   --------------  -----  \n",
      " 0   tgt_ade_dc_ind           1232 non-null   int64  \n",
      " 1   race_cd                  1232 non-null   float64\n",
      " 2   est_age                  1232 non-null   float64\n",
      " 3   sex_cd                   1232 non-null   int32  \n",
      " 4   cms_disabled_ind         1232 non-null   float64\n",
      " 5   cms_low_income_ind       1232 non-null   float64\n",
      " 6   ndc_id                   1232 non-null   float64\n",
      " 7   pay_day_supply_cnt       1232 non-null   float64\n",
      " 8   rx_cost                  1232 non-null   float64\n",
      " 9   tot_drug_cost_accum_amt  1232 non-null   float64\n",
      " 10  reversal_ind             1232 non-null   int32  \n",
      " 11  mail_order_ind           1232 non-null   int32  \n",
      " 12  generic_ind              1232 non-null   int32  \n",
      " 13  maint_ind                1232 non-null   int32  \n",
      " 14  gpi_drug_group_desc      1232 non-null   int32  \n",
      " 15  gpi_drug_class_desc      1232 non-null   int32  \n",
      " 16  hum_drug_class_desc      1232 non-null   int32  \n",
      " 17  strength_meas            1232 non-null   int32  \n",
      " 18  specialty_ind            1232 non-null   int32  \n",
      " 19  clm_type_rxclms          1232 non-null   int32  \n",
      " 20  ade_diagnosis            1232 non-null   float64\n",
      " 21  seizure_diagnosis        1232 non-null   float64\n",
      " 22  pain_diagnosis           1232 non-null   float64\n",
      " 23  fatigue_diagnosis        1232 non-null   float64\n",
      " 24  nausea_diagnosis         1232 non-null   float64\n",
      " 25  hyperglycemia_diagnosis  1232 non-null   float64\n",
      " 26  constipation_diagnosis   1232 non-null   float64\n",
      " 27  diarrhea_diagnosis       1232 non-null   float64\n",
      " 28  primary_diag_cd          1232 non-null   int32  \n",
      " 29  diag_cd2                 1232 non-null   int32  \n",
      " 30  diag_cd3                 1232 non-null   int32  \n",
      " 31  pot                      1232 non-null   int32  \n",
      " 32  util_cat                 1232 non-null   int32  \n",
      " 33  hedis_pot                1232 non-null   int32  \n",
      " 34  clm_type_medclms         1232 non-null   int32  \n",
      "dtypes: float64(16), int32(18), int64(1)\n",
      "memory usage: 259.9 KB\n",
      "None\n",
      "\n",
      "\n",
      "<class 'pandas.core.frame.DataFrame'>\n",
      "Int64Index: 420 entries, 0 to 419\n",
      "Data columns (total 34 columns):\n",
      " #   Column                   Non-Null Count  Dtype  \n",
      "---  ------                   --------------  -----  \n",
      " 0   race_cd                  420 non-null    float64\n",
      " 1   est_age                  420 non-null    float64\n",
      " 2   sex_cd                   420 non-null    int32  \n",
      " 3   cms_disabled_ind         420 non-null    float64\n",
      " 4   cms_low_income_ind       420 non-null    float64\n",
      " 5   ndc_id                   420 non-null    float64\n",
      " 6   pay_day_supply_cnt       420 non-null    float64\n",
      " 7   rx_cost                  420 non-null    float64\n",
      " 8   tot_drug_cost_accum_amt  420 non-null    float64\n",
      " 9   reversal_ind             420 non-null    int32  \n",
      " 10  mail_order_ind           420 non-null    int32  \n",
      " 11  generic_ind              420 non-null    int32  \n",
      " 12  maint_ind                420 non-null    int32  \n",
      " 13  gpi_drug_group_desc      420 non-null    int32  \n",
      " 14  gpi_drug_class_desc      420 non-null    int32  \n",
      " 15  hum_drug_class_desc      420 non-null    int32  \n",
      " 16  strength_meas            420 non-null    int32  \n",
      " 17  specialty_ind            420 non-null    int32  \n",
      " 18  clm_type_rxclms          420 non-null    int32  \n",
      " 19  ade_diagnosis            420 non-null    float64\n",
      " 20  seizure_diagnosis        420 non-null    float64\n",
      " 21  pain_diagnosis           420 non-null    float64\n",
      " 22  fatigue_diagnosis        420 non-null    float64\n",
      " 23  nausea_diagnosis         420 non-null    float64\n",
      " 24  hyperglycemia_diagnosis  420 non-null    float64\n",
      " 25  constipation_diagnosis   420 non-null    float64\n",
      " 26  diarrhea_diagnosis       420 non-null    float64\n",
      " 27  primary_diag_cd          420 non-null    int32  \n",
      " 28  diag_cd2                 420 non-null    int32  \n",
      " 29  diag_cd3                 420 non-null    int32  \n",
      " 30  pot                      420 non-null    int32  \n",
      " 31  util_cat                 420 non-null    int32  \n",
      " 32  hedis_pot                420 non-null    int32  \n",
      " 33  clm_type_medclms         420 non-null    int32  \n",
      "dtypes: float64(16), int32(18)\n",
      "memory usage: 85.3 KB\n",
      "None\n"
     ]
    }
   ],
   "source": [
    "print(merged_df.info())\n",
    "print()\n",
    "print()\n",
    "print(merged_df_holdout.info())"
   ]
  },
  {
   "cell_type": "markdown",
   "id": "18c10f32",
   "metadata": {},
   "source": [
    "### Modeling"
   ]
  },
  {
   "cell_type": "markdown",
   "id": "2e0b7413",
   "metadata": {},
   "source": [
    "#### Split the train set into train and test"
   ]
  },
  {
   "cell_type": "code",
   "execution_count": 43,
   "id": "cc49dc55",
   "metadata": {},
   "outputs": [],
   "source": [
    "# Assuming 'merged_df_undersampled_encoded' is your DataFrame and 'target' is your target variable\n",
    "X = merged_df.drop(columns=['tgt_ade_dc_ind'])  # Features\n",
    "y = merged_df['tgt_ade_dc_ind']  # Target variable\n",
    "\n",
    "# Split the data into training and testing sets (70% train, 30% test)\n",
    "X_train, X_test, y_train, y_test = train_test_split(X, y, test_size=0.2, random_state=42)"
   ]
  },
  {
   "cell_type": "markdown",
   "id": "1d270440",
   "metadata": {},
   "source": [
    "#### XGboost with hyperparameter tuned using GridSearch"
   ]
  },
  {
   "cell_type": "code",
   "execution_count": 44,
   "id": "4396abe9",
   "metadata": {},
   "outputs": [
    {
     "name": "stdout",
     "output_type": "stream",
     "text": [
      "{'colsample_bytree': 1.0, 'gamma': 0, 'learning_rate': 0.2, 'max_depth': 4, 'min_child_weight': 1, 'n_estimators': 150, 'reg_alpha': 0, 'reg_lambda': 0, 'subsample': 1.0}\n"
     ]
    }
   ],
   "source": [
    "# Define the hyperparameter grid\n",
    "param_grid = {\n",
    "    'n_estimators': [50, 100, 150],  # Number of boosting rounds\n",
    "    'max_depth': [3, 4, 5],  # Maximum depth of a tree\n",
    "    'learning_rate': [0.01, 0.1, 0.2],  # Step size shrinkage to prevent overfitting\n",
    "    'subsample': [0.8, 1.0],  # Fraction of samples used for fitting the trees\n",
    "    'colsample_bytree': [0.8, 1.0],  # Fraction of features used for fitting the trees\n",
    "    'gamma': [0, 1, 5],  # Minimum loss reduction required to make a further partition on a leaf node\n",
    "    'reg_alpha': [0, 1, 10],  # L1 regularization term on weights\n",
    "    'reg_lambda': [0, 1, 10],  # L2 regularization term on weights\n",
    "    'min_child_weight': [1, 3, 5]  # Minimum sum of instance weight needed in a child\n",
    "    }\n",
    "\n",
    "# Create an XGBoost classifier\n",
    "xgb_model = xgb.XGBClassifier(objective='binary:logistic',scale_pos_weight=3)\n",
    "\n",
    "# Create a GridSearchCV object\n",
    "gscv = GridSearchCV(xgb_model, param_grid, cv=5, scoring='accuracy')\n",
    "\n",
    "#Fit the model to the training data\n",
    "gscv.fit(X_train, y_train)\n",
    "\n",
    "best_params = gscv.best_params_\n",
    "print(best_params)\n",
    "\n",
    "#Get the best estimator from grid search\n",
    "best_xgb_model = gscv.best_estimator_\n"
   ]
  },
  {
   "cell_type": "code",
   "execution_count": 45,
   "id": "99c65d6a",
   "metadata": {},
   "outputs": [],
   "source": [
    "#best_xgb_model = xgb.XGBClassifier(min_samples_leaf = 1, min_samples_split = 2, \n",
    "#                                   max_depth = 15, n_estimators = 150, max_features = 'auto')\n",
    "##fit the model\n",
    "#best_xgb_model.fit(X_train, y_train)"
   ]
  },
  {
   "cell_type": "code",
   "execution_count": 46,
   "id": "05c7cb6b",
   "metadata": {},
   "outputs": [],
   "source": [
    "X_pred = best_xgb_model.predict(X_train)"
   ]
  },
  {
   "cell_type": "code",
   "execution_count": 47,
   "id": "dbcbe825",
   "metadata": {
    "scrolled": true
   },
   "outputs": [
    {
     "name": "stdout",
     "output_type": "stream",
     "text": [
      "AUC-ROC Score of train set: 1.0\n"
     ]
    }
   ],
   "source": [
    "auc_roc_train = roc_auc_score(y_train, best_xgb_model.predict_proba(X_train)[:, 1])\n",
    "print(f\"AUC-ROC Score of train set: {auc_roc_train}\")"
   ]
  },
  {
   "cell_type": "code",
   "execution_count": 48,
   "id": "59dc4f89",
   "metadata": {},
   "outputs": [],
   "source": [
    "# Define the number of folds for cross-validation\n",
    "num_folds = 10\n",
    "\n",
    "# Define a custom scoring function using roc_auc_score\n",
    "def custom_roc_auc(model, X, y):\n",
    "    y_pred_proba = model.predict_proba(X)[:,1]\n",
    "    return roc_auc_score(y, y_pred_proba)\n",
    "\n",
    "# Perform cross-validation\n",
    "cv_scores = cross_val_score(best_xgb_model, X_train, y_train, cv=num_folds, scoring=custom_roc_auc)\n"
   ]
  },
  {
   "cell_type": "code",
   "execution_count": 49,
   "id": "5abe4e64",
   "metadata": {},
   "outputs": [
    {
     "name": "stdout",
     "output_type": "stream",
     "text": [
      "Cross-validation scores: [0.87654321 0.75308642 0.80493827 0.87037037 0.8494382  0.8289638\n",
      " 0.8289638  0.81772784 0.76654182 0.88639201]\n",
      "\n",
      "Mean AUC: 0.8282965737272854\n"
     ]
    }
   ],
   "source": [
    "# Display the cross-validation scores\n",
    "print(\"Cross-validation scores:\", cv_scores)\n",
    "print()\n",
    "print(f\"Mean AUC: {np.mean(cv_scores)}\")"
   ]
  },
  {
   "cell_type": "code",
   "execution_count": 50,
   "id": "6c1fb4f7",
   "metadata": {},
   "outputs": [],
   "source": [
    "y_pred = best_xgb_model.predict(X_test)"
   ]
  },
  {
   "cell_type": "code",
   "execution_count": 51,
   "id": "7fbd0723",
   "metadata": {},
   "outputs": [
    {
     "name": "stdout",
     "output_type": "stream",
     "text": [
      "AUC-ROC Score test set : 0.8741733379742429\n"
     ]
    }
   ],
   "source": [
    "auc_roc_test = roc_auc_score(y_test, best_xgb_model.predict_proba(X_test)[:, 1])\n",
    "print(f\"AUC-ROC Score test set : {auc_roc_test}\")"
   ]
  },
  {
   "cell_type": "markdown",
   "id": "40b76872",
   "metadata": {},
   "source": [
    "### Predictions on holdout set"
   ]
  },
  {
   "cell_type": "code",
   "execution_count": 52,
   "id": "3de67508",
   "metadata": {},
   "outputs": [],
   "source": [
    "holdout_pred = best_xgb_model.predict(merged_df_holdout)"
   ]
  },
  {
   "cell_type": "code",
   "execution_count": 53,
   "id": "3f7c4761",
   "metadata": {},
   "outputs": [],
   "source": [
    "holdout_pred_prob = best_xgb_model.predict_proba(merged_df_holdout)"
   ]
  },
  {
   "cell_type": "code",
   "execution_count": 54,
   "id": "a3275907",
   "metadata": {
    "scrolled": false
   },
   "outputs": [],
   "source": [
    "#holdout_pred_prob"
   ]
  },
  {
   "cell_type": "code",
   "execution_count": 55,
   "id": "537df33a",
   "metadata": {},
   "outputs": [],
   "source": [
    "holdout_pred_prob = holdout_pred_prob[:, 0]"
   ]
  },
  {
   "cell_type": "code",
   "execution_count": 56,
   "id": "99a1b5b3",
   "metadata": {},
   "outputs": [],
   "source": [
    "#Create a submission DataFrame\n",
    "# With id column in merged df\n",
    "#submission_with_Target = pd.DataFrame({\n",
    "#    \"id\": merged_df_holdout[\"id\"], \n",
    "#    \"Target\": holdout_pred,\n",
    "#    \"score\": holdout_pred_prob\n",
    "#})\n",
    "\n",
    "# Without id column in merged df\n",
    "\n",
    "submission_with_Target = pd.DataFrame({\n",
    "   \"id\": targetdf_holdout[\"id\"], \n",
    "   \"Target\": holdout_pred,\n",
    "   \"score\": holdout_pred_prob\n",
    "})"
   ]
  },
  {
   "cell_type": "code",
   "execution_count": 57,
   "id": "0f48f972",
   "metadata": {
    "scrolled": true
   },
   "outputs": [
    {
     "name": "stdout",
     "output_type": "stream",
     "text": [
      "submission shape:  (420, 4)\n",
      "\n",
      "class distribution:  \n",
      " 0    383\n",
      "1     37\n",
      "Name: Target, dtype: int64\n",
      "\n",
      "             id  Target     score  Rank\n",
      "0    1123008765       0  0.999977     1\n",
      "1    1108008162       0  0.999937     2\n",
      "2    1044580345       0  0.999931     3\n",
      "3    1041799332       0  0.999929     4\n",
      "4    1117117278       0  0.999901     5\n",
      "..          ...     ...       ...   ...\n",
      "415  1007523223       1  0.092871   416\n",
      "416  1029150179       1  0.087266   417\n",
      "417  1016317684       1  0.080454   418\n",
      "418  1078935587       1  0.053380   419\n",
      "419  1119482706       1  0.049798   420\n",
      "\n",
      "[420 rows x 4 columns]\n"
     ]
    }
   ],
   "source": [
    "submission_with_Target['Rank'] = submission_with_Target['score'].rank(ascending=False, method='min').astype(int)\n",
    "\n",
    "submission_with_Target = submission_with_Target.sort_values(by='Rank').reset_index(drop=True)\n",
    "\n",
    "print('submission shape: ', submission_with_Target.shape)\n",
    "print()\n",
    "print('class distribution: ', '\\n',submission_with_Target['Target'].value_counts())\n",
    "print()\n",
    "print(submission_with_Target)"
   ]
  },
  {
   "cell_type": "code",
   "execution_count": 58,
   "id": "d97b74cf",
   "metadata": {},
   "outputs": [],
   "source": [
    "#Save the submission_2 DataFrame to a CSV file\n",
    "submission_with_Target.to_csv(\"C:/Users/u1427957/OneDrive - University of Utah/MyWorks_2022/Portfolio-Projects/Humana/data/new_data/Humana_10-06-2023_XGBOOST_with_Target_without_id.csv\", index=False)"
   ]
  },
  {
   "cell_type": "code",
   "execution_count": 59,
   "id": "5bdac08f",
   "metadata": {},
   "outputs": [],
   "source": [
    "#Create a submission DataFrame\n",
    "#submission_without_Target = pd.DataFrame({\n",
    "   # \"id\": merged_df_holdout[\"id\"], \n",
    "   # \"score\": holdout_pred_prob\n",
    "#})\n",
    "\n",
    "# Without id column in merged df\n",
    "\n",
    "submission_without_Target = pd.DataFrame({\n",
    "   \"id\": targetdf_holdout[\"id\"], \n",
    "   \"score\": holdout_pred_prob\n",
    "})"
   ]
  },
  {
   "cell_type": "code",
   "execution_count": 60,
   "id": "d6a8a462",
   "metadata": {},
   "outputs": [
    {
     "name": "stdout",
     "output_type": "stream",
     "text": [
      "submission shape:  (420, 3)\n",
      "\n",
      "\n",
      "             id     score  Rank\n",
      "0    1123008765  0.999977     1\n",
      "1    1108008162  0.999937     2\n",
      "2    1044580345  0.999931     3\n",
      "3    1041799332  0.999929     4\n",
      "4    1117117278  0.999901     5\n",
      "..          ...       ...   ...\n",
      "415  1007523223  0.092871   416\n",
      "416  1029150179  0.087266   417\n",
      "417  1016317684  0.080454   418\n",
      "418  1078935587  0.053380   419\n",
      "419  1119482706  0.049798   420\n",
      "\n",
      "[420 rows x 3 columns]\n"
     ]
    }
   ],
   "source": [
    "submission_without_Target['Rank'] = submission_without_Target['score'].rank(ascending=False, method='min').astype(int)\n",
    "\n",
    "submission_without_Target = submission_without_Target.sort_values(by='Rank').reset_index(drop=True)\n",
    "\n",
    "print('submission shape: ', submission_without_Target.shape)\n",
    "print()\n",
    "#print('class distribution: ', '\\n',submission_without_Target['Target'].value_counts())\n",
    "print()\n",
    "print(submission_without_Target)"
   ]
  },
  {
   "cell_type": "code",
   "execution_count": 61,
   "id": "a3bd536c",
   "metadata": {},
   "outputs": [],
   "source": [
    "#Save the submission_2 DataFrame to a CSV file\n",
    "submission_without_Target.to_csv(\"C:/Users/u1427957/OneDrive - University of Utah/MyWorks_2022/Portfolio-Projects/Humana/data/new_data/Humana_10-06-2023_XGBOOST_without_Target_without_id.csv\", index=False)"
   ]
  }
 ],
 "metadata": {
  "kernelspec": {
   "display_name": "Python 3 (ipykernel)",
   "language": "python",
   "name": "python3"
  },
  "language_info": {
   "codemirror_mode": {
    "name": "ipython",
    "version": 3
   },
   "file_extension": ".py",
   "mimetype": "text/x-python",
   "name": "python",
   "nbconvert_exporter": "python",
   "pygments_lexer": "ipython3",
   "version": "3.11.5"
  },
  "toc": {
   "base_numbering": 1,
   "nav_menu": {},
   "number_sections": true,
   "sideBar": true,
   "skip_h1_title": false,
   "title_cell": "Table of Contents",
   "title_sidebar": "Contents",
   "toc_cell": false,
   "toc_position": {},
   "toc_section_display": true,
   "toc_window_display": false
  },
  "varInspector": {
   "cols": {
    "lenName": 16,
    "lenType": 16,
    "lenVar": 40
   },
   "kernels_config": {
    "python": {
     "delete_cmd_postfix": "",
     "delete_cmd_prefix": "del ",
     "library": "var_list.py",
     "varRefreshCmd": "print(var_dic_list())"
    },
    "r": {
     "delete_cmd_postfix": ") ",
     "delete_cmd_prefix": "rm(",
     "library": "var_list.r",
     "varRefreshCmd": "cat(var_dic_list()) "
    }
   },
   "types_to_exclude": [
    "module",
    "function",
    "builtin_function_or_method",
    "instance",
    "_Feature"
   ],
   "window_display": false
  }
 },
 "nbformat": 4,
 "nbformat_minor": 5
}
